{
 "cells": [
  {
   "cell_type": "markdown",
   "id": "aa097a11",
   "metadata": {},
   "source": [
    "# Bike Sharing Demand\n",
    "This dataset consists of the number of public bikes rented in Seoul's bike sharing system at each hour. It also includes information about the weather and the time, such as whether it was a public holiday."
   ]
  },
  {
   "cell_type": "code",
   "execution_count": 1,
   "id": "26a08de4",
   "metadata": {},
   "outputs": [],
   "source": [
    "# Import modules\n",
    "import pandas as pd\n",
    "import matplotlib.pyplot as plt\n",
    "import numpy as np\n",
    "import seaborn as sns"
   ]
  },
  {
   "cell_type": "code",
   "execution_count": 2,
   "id": "0109361b",
   "metadata": {},
   "outputs": [],
   "source": [
    "# Import data\n",
    "file = 'data.csv'\n",
    "df = pd.read_csv(file)"
   ]
  },
  {
   "cell_type": "markdown",
   "id": "5030751b",
   "metadata": {},
   "source": [
    "## Cleaning data"
   ]
  },
  {
   "cell_type": "code",
   "execution_count": 1,
   "id": "inclusive-leeds",
   "metadata": {},
   "outputs": [
    {
     "name": "stdout",
     "output_type": "stream",
     "text": [
      "<class 'pandas.core.frame.DataFrame'>\n",
      "RangeIndex: 8760 entries, 0 to 8759\n",
      "Data columns (total 15 columns):\n",
      " #   Column                    Non-Null Count  Dtype         \n",
      "---  ------                    --------------  -----         \n",
      " 0   Date                      8760 non-null   datetime64[ns]\n",
      " 1   Rented Bike Count         8760 non-null   int64         \n",
      " 2   Hour                      8760 non-null   int64         \n",
      " 3   Temperature(C)            8760 non-null   float64       \n",
      " 4   Humidity(%)               8760 non-null   int64         \n",
      " 5   Wind speed (m/s)          8760 non-null   float64       \n",
      " 6   Visibility (10m)          8760 non-null   int64         \n",
      " 7   Dew point temperature(C)  8760 non-null   float64       \n",
      " 8   Solar Radiation (MJ/m2)   8760 non-null   float64       \n",
      " 9   Rainfall(mm)              8760 non-null   float64       \n",
      " 10  Snowfall (cm)             8760 non-null   float64       \n",
      " 11  Seasons                   8760 non-null   object        \n",
      " 12  Holiday                   8760 non-null   object        \n",
      " 13  Functioning Day           8760 non-null   object        \n",
      " 14  day_of_week               8760 non-null   object        \n",
      "dtypes: datetime64[ns](1), float64(6), int64(4), object(4)\n",
      "memory usage: 1.0+ MB\n"
     ]
    }
   ],
   "source": [
    "# Converting the date category to date time\n",
    "df['Date'] = pd.to_datetime(df['Date'])\n",
    "\n",
    "# Creating new column 'Week Day'\n",
    "df['day_of_week'] = df['Date'].dt.day_name()\n",
    "\n",
    "df.info()\n",
    "\n",
    "#Ignoring date"
   ]
  },
  {
   "cell_type": "code",
   "execution_count": 2,
   "id": "5edea242-9793-45f3-9e17-f209e81de77a",
   "metadata": {},
   "outputs": [
    {
     "name": "stdout",
     "output_type": "stream",
     "text": [
      "Yes    8465\n",
      "No      295\n",
      "Name: Functioning Day, dtype: int64\n",
      "\n",
      "The maximum value of a non-functioning day is 0.\n"
     ]
    }
   ],
   "source": [
    "print(df['Functioning Day'].value_counts())\n",
    "# There are 295 Non-Functioning Days \n",
    "\n",
    "#Counting bike counts of non-function days\n",
    "not_functioning = df['Functioning Day'] == \"No\"\n",
    "print(f'\\nThe maximum value of a non-functioning day is {df[not_functioning][\"Rented Bike Count\"].max()}.')\n",
    "\n",
    "# This means that the data is skewed, so we must remove these values"
   ]
  },
  {
   "cell_type": "code",
   "execution_count": 3,
   "id": "2eb0f177-64f6-4eaa-98c4-6d17b33d28f7",
   "metadata": {},
   "outputs": [
    {
     "data": {
      "application/com.datacamp.data-table.v1+json": {
       "is_truncated": false,
       "table": {
        "data": [
         {
          "Date": "2017-01-12T00:00:00.000Z",
          "Dew point temperature(C)": -17.6,
          "Holiday": "No Holiday",
          "Hour": 0,
          "Humidity(%)": 37,
          "Rainfall(mm)": 0,
          "Rented Bike Count": 254,
          "Seasons": "Winter",
          "Snowfall (cm)": 0,
          "Solar Radiation (MJ/m2)": 0,
          "Temperature(C)": -5.2,
          "Visibility (10m)": 2000,
          "Wind speed (m/s)": 2.2,
          "day_of_week": "Thursday",
          "index": 0
         },
         {
          "Date": "2017-01-12T00:00:00.000Z",
          "Dew point temperature(C)": -17.6,
          "Holiday": "No Holiday",
          "Hour": 1,
          "Humidity(%)": 38,
          "Rainfall(mm)": 0,
          "Rented Bike Count": 204,
          "Seasons": "Winter",
          "Snowfall (cm)": 0,
          "Solar Radiation (MJ/m2)": 0,
          "Temperature(C)": -5.5,
          "Visibility (10m)": 2000,
          "Wind speed (m/s)": 0.8,
          "day_of_week": "Thursday",
          "index": 1
         },
         {
          "Date": "2017-01-12T00:00:00.000Z",
          "Dew point temperature(C)": -17.7,
          "Holiday": "No Holiday",
          "Hour": 2,
          "Humidity(%)": 39,
          "Rainfall(mm)": 0,
          "Rented Bike Count": 173,
          "Seasons": "Winter",
          "Snowfall (cm)": 0,
          "Solar Radiation (MJ/m2)": 0,
          "Temperature(C)": -6,
          "Visibility (10m)": 2000,
          "Wind speed (m/s)": 1,
          "day_of_week": "Thursday",
          "index": 2
         },
         {
          "Date": "2017-01-12T00:00:00.000Z",
          "Dew point temperature(C)": -17.6,
          "Holiday": "No Holiday",
          "Hour": 3,
          "Humidity(%)": 40,
          "Rainfall(mm)": 0,
          "Rented Bike Count": 107,
          "Seasons": "Winter",
          "Snowfall (cm)": 0,
          "Solar Radiation (MJ/m2)": 0,
          "Temperature(C)": -6.2,
          "Visibility (10m)": 2000,
          "Wind speed (m/s)": 0.9,
          "day_of_week": "Thursday",
          "index": 3
         },
         {
          "Date": "2017-01-12T00:00:00.000Z",
          "Dew point temperature(C)": -18.6,
          "Holiday": "No Holiday",
          "Hour": 4,
          "Humidity(%)": 36,
          "Rainfall(mm)": 0,
          "Rented Bike Count": 78,
          "Seasons": "Winter",
          "Snowfall (cm)": 0,
          "Solar Radiation (MJ/m2)": 0,
          "Temperature(C)": -6,
          "Visibility (10m)": 2000,
          "Wind speed (m/s)": 2.3,
          "day_of_week": "Thursday",
          "index": 4
         }
        ],
        "schema": {
         "fields": [
          {
           "name": "index",
           "type": "integer"
          },
          {
           "name": "Date",
           "type": "datetime"
          },
          {
           "name": "Rented Bike Count",
           "type": "integer"
          },
          {
           "name": "Hour",
           "type": "integer"
          },
          {
           "name": "Temperature(C)",
           "type": "number"
          },
          {
           "name": "Humidity(%)",
           "type": "integer"
          },
          {
           "name": "Wind speed (m/s)",
           "type": "number"
          },
          {
           "name": "Visibility (10m)",
           "type": "integer"
          },
          {
           "name": "Dew point temperature(C)",
           "type": "number"
          },
          {
           "name": "Solar Radiation (MJ/m2)",
           "type": "number"
          },
          {
           "name": "Rainfall(mm)",
           "type": "number"
          },
          {
           "name": "Snowfall (cm)",
           "type": "number"
          },
          {
           "name": "Seasons",
           "type": "string"
          },
          {
           "name": "Holiday",
           "type": "string"
          },
          {
           "name": "day_of_week",
           "type": "string"
          }
         ],
         "pandas_version": "0.20.0",
         "primaryKey": [
          "index"
         ]
        }
       },
       "total_rows": 5
      },
      "text/html": [
       "<div>\n",
       "<style scoped>\n",
       "    .dataframe tbody tr th:only-of-type {\n",
       "        vertical-align: middle;\n",
       "    }\n",
       "\n",
       "    .dataframe tbody tr th {\n",
       "        vertical-align: top;\n",
       "    }\n",
       "\n",
       "    .dataframe thead th {\n",
       "        text-align: right;\n",
       "    }\n",
       "</style>\n",
       "<table border=\"1\" class=\"dataframe\">\n",
       "  <thead>\n",
       "    <tr style=\"text-align: right;\">\n",
       "      <th></th>\n",
       "      <th>Date</th>\n",
       "      <th>Rented Bike Count</th>\n",
       "      <th>Hour</th>\n",
       "      <th>Temperature(C)</th>\n",
       "      <th>Humidity(%)</th>\n",
       "      <th>Wind speed (m/s)</th>\n",
       "      <th>Visibility (10m)</th>\n",
       "      <th>Dew point temperature(C)</th>\n",
       "      <th>Solar Radiation (MJ/m2)</th>\n",
       "      <th>Rainfall(mm)</th>\n",
       "      <th>Snowfall (cm)</th>\n",
       "      <th>Seasons</th>\n",
       "      <th>Holiday</th>\n",
       "      <th>day_of_week</th>\n",
       "    </tr>\n",
       "  </thead>\n",
       "  <tbody>\n",
       "    <tr>\n",
       "      <th>0</th>\n",
       "      <td>2017-01-12</td>\n",
       "      <td>254</td>\n",
       "      <td>0</td>\n",
       "      <td>-5.2</td>\n",
       "      <td>37</td>\n",
       "      <td>2.2</td>\n",
       "      <td>2000</td>\n",
       "      <td>-17.6</td>\n",
       "      <td>0.0</td>\n",
       "      <td>0.0</td>\n",
       "      <td>0.0</td>\n",
       "      <td>Winter</td>\n",
       "      <td>No Holiday</td>\n",
       "      <td>Thursday</td>\n",
       "    </tr>\n",
       "    <tr>\n",
       "      <th>1</th>\n",
       "      <td>2017-01-12</td>\n",
       "      <td>204</td>\n",
       "      <td>1</td>\n",
       "      <td>-5.5</td>\n",
       "      <td>38</td>\n",
       "      <td>0.8</td>\n",
       "      <td>2000</td>\n",
       "      <td>-17.6</td>\n",
       "      <td>0.0</td>\n",
       "      <td>0.0</td>\n",
       "      <td>0.0</td>\n",
       "      <td>Winter</td>\n",
       "      <td>No Holiday</td>\n",
       "      <td>Thursday</td>\n",
       "    </tr>\n",
       "    <tr>\n",
       "      <th>2</th>\n",
       "      <td>2017-01-12</td>\n",
       "      <td>173</td>\n",
       "      <td>2</td>\n",
       "      <td>-6.0</td>\n",
       "      <td>39</td>\n",
       "      <td>1.0</td>\n",
       "      <td>2000</td>\n",
       "      <td>-17.7</td>\n",
       "      <td>0.0</td>\n",
       "      <td>0.0</td>\n",
       "      <td>0.0</td>\n",
       "      <td>Winter</td>\n",
       "      <td>No Holiday</td>\n",
       "      <td>Thursday</td>\n",
       "    </tr>\n",
       "    <tr>\n",
       "      <th>3</th>\n",
       "      <td>2017-01-12</td>\n",
       "      <td>107</td>\n",
       "      <td>3</td>\n",
       "      <td>-6.2</td>\n",
       "      <td>40</td>\n",
       "      <td>0.9</td>\n",
       "      <td>2000</td>\n",
       "      <td>-17.6</td>\n",
       "      <td>0.0</td>\n",
       "      <td>0.0</td>\n",
       "      <td>0.0</td>\n",
       "      <td>Winter</td>\n",
       "      <td>No Holiday</td>\n",
       "      <td>Thursday</td>\n",
       "    </tr>\n",
       "    <tr>\n",
       "      <th>4</th>\n",
       "      <td>2017-01-12</td>\n",
       "      <td>78</td>\n",
       "      <td>4</td>\n",
       "      <td>-6.0</td>\n",
       "      <td>36</td>\n",
       "      <td>2.3</td>\n",
       "      <td>2000</td>\n",
       "      <td>-18.6</td>\n",
       "      <td>0.0</td>\n",
       "      <td>0.0</td>\n",
       "      <td>0.0</td>\n",
       "      <td>Winter</td>\n",
       "      <td>No Holiday</td>\n",
       "      <td>Thursday</td>\n",
       "    </tr>\n",
       "  </tbody>\n",
       "</table>\n",
       "</div>"
      ],
      "text/plain": [
       "        Date  Rented Bike Count  Hour  Temperature(C)  Humidity(%)  \\\n",
       "0 2017-01-12                254     0            -5.2           37   \n",
       "1 2017-01-12                204     1            -5.5           38   \n",
       "2 2017-01-12                173     2            -6.0           39   \n",
       "3 2017-01-12                107     3            -6.2           40   \n",
       "4 2017-01-12                 78     4            -6.0           36   \n",
       "\n",
       "   Wind speed (m/s)  Visibility (10m)  Dew point temperature(C)  \\\n",
       "0               2.2              2000                     -17.6   \n",
       "1               0.8              2000                     -17.6   \n",
       "2               1.0              2000                     -17.7   \n",
       "3               0.9              2000                     -17.6   \n",
       "4               2.3              2000                     -18.6   \n",
       "\n",
       "   Solar Radiation (MJ/m2)  Rainfall(mm)  Snowfall (cm) Seasons     Holiday  \\\n",
       "0                      0.0           0.0            0.0  Winter  No Holiday   \n",
       "1                      0.0           0.0            0.0  Winter  No Holiday   \n",
       "2                      0.0           0.0            0.0  Winter  No Holiday   \n",
       "3                      0.0           0.0            0.0  Winter  No Holiday   \n",
       "4                      0.0           0.0            0.0  Winter  No Holiday   \n",
       "\n",
       "  day_of_week  \n",
       "0    Thursday  \n",
       "1    Thursday  \n",
       "2    Thursday  \n",
       "3    Thursday  \n",
       "4    Thursday  "
      ]
     },
     "execution_count": 3,
     "metadata": {},
     "output_type": "execute_result"
    }
   ],
   "source": [
    "# Getting the rows that are functioning days\n",
    "df = df[~not_functioning]\n",
    "\n",
    "# Confirming that the non-functioning days were dropped\n",
    "df['Functioning Day'].value_counts()\n",
    "\n",
    "# Dropping the functioning day column because all samples are functioning days\n",
    "df.drop(columns=['Functioning Day'], axis=1, inplace=True)\n",
    "\n",
    "# Confirming column was dropped\n",
    "df.head()"
   ]
  },
  {
   "cell_type": "code",
   "execution_count": 4,
   "id": "edead391-7965-41f3-ac67-9a1d64b8101c",
   "metadata": {},
   "outputs": [
    {
     "data": {
      "text/plain": [
       "Rented Bike Count           1.000000\n",
       "Temperature(C)              0.562740\n",
       "Hour                        0.425256\n",
       "Dew point temperature(C)    0.400263\n",
       "Solar Radiation (MJ/m2)     0.273862\n",
       "Visibility (10m)            0.212323\n",
       "Wind speed (m/s)            0.125022\n",
       "Rainfall(mm)               -0.128626\n",
       "Snowfall (cm)              -0.151611\n",
       "Humidity(%)                -0.201973\n",
       "Name: Rented Bike Count, dtype: float64"
      ]
     },
     "execution_count": 4,
     "metadata": {},
     "output_type": "execute_result"
    }
   ],
   "source": [
    "# Looking for correlations\n",
    "\n",
    "corr_matrix = df.corr()\n",
    "\n",
    "corr_matrix['Rented Bike Count'].sort_values(ascending=False)\n",
    "\n",
    "# Temperature and Hour have the biggest correlation for Rented Bike Count"
   ]
  },
  {
   "cell_type": "code",
   "execution_count": 5,
   "id": "6d46f48d-0a35-4a0b-b5ed-d4d981b52c67",
   "metadata": {},
   "outputs": [],
   "source": [
    "# Splitting data into training and test set \n",
    "from sklearn.model_selection import train_test_split, StratifiedShuffleSplit\n",
    "\n",
    "train_set, test_set = train_test_split(df, test_size=0.2, random_state=42)\n",
    "\n",
    "# Making copy of training set\n",
    "df = train_set.drop('Rented Bike Count', axis=1)\n",
    "df_labels = train_set['Rented Bike Count'].copy()\n",
    "\n",
    "# Visualizing hour and bike count\n",
    "#df.plot(x='Hour', y='Rented Bike Count', kind='scatter')\n",
    "\n",
    "# As you can see, the rented bike count is the highest at 6pm, 8am, 9pm, and 7pm.\n",
    "\n",
    "#df.groupby('Hour')['Rented Bike Count'].sum().sort_values(ascending=False)"
   ]
  },
  {
   "cell_type": "code",
   "execution_count": 6,
   "id": "fade23db-92cb-4c74-b700-5c1bd8bc7995",
   "metadata": {},
   "outputs": [],
   "source": [
    "# Dealing with numerics\n",
    "from sklearn.pipeline import Pipeline\n",
    "from sklearn.preprocessing import StandardScaler\n",
    "\n",
    "df_num = df.drop(['Seasons', 'Holiday', 'day_of_week', 'Date'], axis=1)\n",
    "\n",
    "num_pipeline = Pipeline([\n",
    "    \t\t\t\t\t('std_scaler', StandardScaler())\n",
    "\t\t\t\t\t\t])\n",
    "\n",
    "df_num_tr = num_pipeline.fit_transform(df_num)"
   ]
  },
  {
   "cell_type": "code",
   "execution_count": 7,
   "id": "46376dc5-2864-4c0e-a87d-6b3d0960da6e",
   "metadata": {},
   "outputs": [],
   "source": [
    "# Dealing with text\n",
    "\n",
    "from sklearn.preprocessing import OrdinalEncoder, OneHotEncoder\n",
    "\n",
    "#df_cat = df[['Seasons', 'Holiday', 'day_of_week']]\n",
    "\n",
    "#ordinal_encoder = OrdinalEncoder()\n",
    "#df_cat_encoded = ordinal_encoder.fit_transform(df_cat)\n",
    "#df_cat_encoded[:10]"
   ]
  },
  {
   "cell_type": "code",
   "execution_count": 8,
   "id": "50629e39-52ce-49da-9a76-3671716290eb",
   "metadata": {},
   "outputs": [],
   "source": [
    "from sklearn.compose import ColumnTransformer\n",
    "\n",
    "num_attribs = list(df_num)\n",
    "cat_attribs = ['Seasons', 'Holiday', 'day_of_week']\n",
    "\n",
    "full_pipeline = ColumnTransformer([\n",
    "    \t\t\t('num', num_pipeline, num_attribs),\n",
    "    \t\t\t('cat', OrdinalEncoder(), cat_attribs),\n",
    "\t\t\t])\n",
    "\n",
    "df_prepared = full_pipeline.fit_transform(df)"
   ]
  },
  {
   "cell_type": "code",
   "execution_count": 9,
   "id": "7c5b9b7a-164a-481e-90ff-4501705c83d7",
   "metadata": {},
   "outputs": [
    {
     "data": {
      "text/plain": [
       "LinearRegression()"
      ]
     },
     "execution_count": 9,
     "metadata": {},
     "output_type": "execute_result"
    }
   ],
   "source": [
    "# Creating Linear Regression model\n",
    "from sklearn.linear_model import LinearRegression\n",
    "\n",
    "lin_reg = LinearRegression()\n",
    "lin_reg.fit(df_prepared, df_labels)"
   ]
  },
  {
   "cell_type": "code",
   "execution_count": 10,
   "id": "6940912f-7c75-4388-82ed-801e99a15298",
   "metadata": {},
   "outputs": [],
   "source": [
    "# Testing model on training set\n",
    "some_data = df.iloc[:5]\n",
    "some_labels = df_labels.iloc[:5]\n",
    "some_data_prepared = full_pipeline.transform(some_data)"
   ]
  },
  {
   "cell_type": "code",
   "execution_count": 11,
   "id": "79f0ec03-ded2-4b60-af03-ec59aa21cd36",
   "metadata": {},
   "outputs": [
    {
     "data": {
      "text/plain": [
       "440.3041388709259"
      ]
     },
     "execution_count": 11,
     "metadata": {},
     "output_type": "execute_result"
    }
   ],
   "source": [
    "from sklearn.metrics import mean_squared_error as MSE\n",
    "from sklearn.model_selection import cross_val_score\n",
    "\n",
    "df_predictions = lin_reg.predict(df_prepared)\n",
    "lin_rmse = np.sqrt(MSE(df_labels, df_predictions))\n",
    "lin_rmse\n",
    "\n",
    "lin_scores = cross_val_score(lin_reg, df_prepared, df_labels, scoring='neg_mean_squared_error', cv=10)\n",
    "lin_rmse_scores = np.sqrt(-lin_scores)\n",
    "lin_rmse_scores.mean()"
   ]
  },
  {
   "cell_type": "code",
   "execution_count": 12,
   "id": "be39c396-d128-46c0-9119-b94315773a86",
   "metadata": {},
   "outputs": [],
   "source": [
    "# Decision Tree Regressor\n",
    "#from sklearn.tree import DecisionTreeRegressor\n",
    "\n",
    "#tree_reg = DecisionTreeRegressor()\n",
    "#tree_reg.fit(df_prepared, df_labels)\n",
    "\n",
    "#df_predictions = tree_reg.predict(df_prepared)\n",
    "#tree_rmse = np.sqrt(MSE(df_labels, df_predictions))\n",
    "\n",
    "#tree_rmse"
   ]
  },
  {
   "cell_type": "code",
   "execution_count": 13,
   "id": "0c832f10-3744-43b9-b1f0-8cd5f62ff84a",
   "metadata": {},
   "outputs": [],
   "source": [
    "\n",
    "\n",
    "#scores = cross_val_score(tree_reg, df_prepared, df_labels, scoring='neg_mean_squared_error', cv=10)\n",
    "#tree_rmse_scores = np.sqrt(-scores)\n",
    "#tree_rmse_scores.mean()"
   ]
  },
  {
   "cell_type": "code",
   "execution_count": 14,
   "id": "e9b4462e-3009-44f6-af1f-2eec7ce629f0",
   "metadata": {},
   "outputs": [
    {
     "data": {
      "text/plain": [
       "219.4843833158965"
      ]
     },
     "execution_count": 14,
     "metadata": {},
     "output_type": "execute_result"
    }
   ],
   "source": [
    "# Random Forest Model\n",
    "from sklearn.ensemble import RandomForestRegressor\n",
    "forest_reg = RandomForestRegressor(max_features=10, n_estimators=35)\n",
    "forest_reg.fit(df_prepared, df_labels)\n",
    "\n",
    "df_predictions = forest_reg.predict(df_prepared)\n",
    "forest_scores = cross_val_score(forest_reg, df_prepared, df_labels, scoring='neg_mean_squared_error', cv=10)\n",
    "forest_rmse_scores = np.sqrt(-forest_scores)\n",
    "forest_rmse_scores.mean()"
   ]
  },
  {
   "cell_type": "code",
   "execution_count": 15,
   "id": "108f742b-923c-4f00-939c-b9a059a364d0",
   "metadata": {},
   "outputs": [
    {
     "data": {
      "text/plain": [
       "GridSearchCV(cv=5,\n",
       "             estimator=RandomForestRegressor(max_features=10, n_estimators=35),\n",
       "             param_grid=[{'max_features': [10], 'n_estimators': [60, 80, 100]},\n",
       "                         {'bootstrap': [False], 'max_features': [2, 3, 4],\n",
       "                          'n_estimators': [3, 10]}],\n",
       "             return_train_score=True, scoring='neg_mean_squared_error')"
      ]
     },
     "execution_count": 15,
     "metadata": {},
     "output_type": "execute_result"
    }
   ],
   "source": [
    "from sklearn.model_selection import GridSearchCV\n",
    "\n",
    "param_grid = [\n",
    "    \t\t{'n_estimators': [60, 80, 100], 'max_features': [10]},\n",
    "    \t\t{'bootstrap': [False], 'n_estimators': [3,10], 'max_features': [2,3,4]}\n",
    "]\n",
    "\n",
    "grid_search = GridSearchCV(forest_reg, param_grid, cv=5, scoring='neg_mean_squared_error', return_train_score=True)\n",
    "\n",
    "grid_search.fit(df_prepared, df_labels)\n",
    "\n",
    "#grid_search.best_estimator_"
   ]
  },
  {
   "cell_type": "code",
   "execution_count": 16,
   "id": "da687568-19b6-417d-ba66-79072850721a",
   "metadata": {},
   "outputs": [
    {
     "data": {
      "text/plain": [
       "[(0.32657011864453717, 'Temperature(C)'),\n",
       " (0.31012810034879174, 'Hour'),\n",
       " (0.09890672251551086, 'Humidity(%)'),\n",
       " (0.07922295178385166, 'Solar Radiation (MJ/m2)'),\n",
       " (0.05669276133731568, 'Seasons'),\n",
       " (0.04013300055954928, 'Rainfall(mm)'),\n",
       " (0.030915851555071965, 'Dew point temperature(C)'),\n",
       " (0.018242320922328043, 'Visibility (10m)'),\n",
       " (0.01764019063247739, 'day_of_week'),\n",
       " (0.01751996087541447, 'Wind speed (m/s)'),\n",
       " (0.002761651953375338, 'Holiday'),\n",
       " (0.0012663688717764238, 'Snowfall (cm)')]"
      ]
     },
     "execution_count": 16,
     "metadata": {},
     "output_type": "execute_result"
    }
   ],
   "source": [
    "# Displaying importance scores\n",
    "feature_importances = grid_search.best_estimator_.feature_importances_\n",
    "cat_encoder = full_pipeline.named_transformers_['cat']\n",
    "cat_one_hot_attribs = list(cat_encoder.categories_[0])\n",
    "attributes = num_attribs + cat_attribs\n",
    "sorted(zip(feature_importances, attributes), reverse=True)"
   ]
  },
  {
   "cell_type": "code",
   "execution_count": 17,
   "id": "2303e1d5-07e8-4d6a-9d04-4a554680b82a",
   "metadata": {},
   "outputs": [
    {
     "data": {
      "text/plain": [
       "222.05075110447717"
      ]
     },
     "execution_count": 17,
     "metadata": {},
     "output_type": "execute_result"
    }
   ],
   "source": [
    "# Evaluating the test set\n",
    "final_model = grid_search.best_estimator_\n",
    "\n",
    "X_test = test_set.drop('Rented Bike Count', axis=1)\n",
    "y_test = test_set['Rented Bike Count'].copy()\n",
    "\n",
    "X_test_prepared = full_pipeline.transform(X_test)\n",
    "final_predictions = final_model.predict(X_test_prepared)\n",
    "\n",
    "final_mse = MSE(y_test, final_predictions)\n",
    "final_rmse = np.sqrt(final_mse)\n",
    "\n",
    "final_rmse"
   ]
  },
  {
   "cell_type": "code",
   "execution_count": 18,
   "id": "19e8536f-8cbe-4993-a1e4-ed021f342b1b",
   "metadata": {},
   "outputs": [
    {
     "data": {
      "text/plain": [
       "array([201.76376991, 240.63344174])"
      ]
     },
     "execution_count": 18,
     "metadata": {},
     "output_type": "execute_result"
    }
   ],
   "source": [
    "# 95% confidence interval\n",
    "from scipy import stats\n",
    "\n",
    "confidence = 0.95\n",
    "squared_errors = (final_predictions - y_test) ** 2\n",
    "np.sqrt(stats.t.interval(confidence, len(squared_errors) -1, loc=squared_errors.mean(), scale=stats.sem(squared_errors)))"
   ]
  },
  {
   "cell_type": "markdown",
   "id": "f86011a3-ce1e-4810-8b06-a7cfbd45a288",
   "metadata": {},
   "source": [
    "[Source](https://archive.ics.uci.edu/ml/datasets/Seoul+Bike+Sharing+Demand) of dataset. \n",
    "\n",
    "**Citations**:\n",
    "- Sathishkumar V E, Jangwoo Park, and Yongyun Cho. 'Using data mining techniques for bike sharing demand prediction in metropolitan city.' Computer Communications, Vol.153, pp.353-366, March, 2020\n",
    "- Sathishkumar V E and Yongyun Cho. 'A rule-based model for Seoul Bike sharing demand prediction using weather data' European Journal of Remote Sensing, pp. 1-18, Feb, 2020 "
   ]
  },
  {
   "cell_type": "markdown",
   "id": "5a0a52d9",
   "metadata": {},
   "source": [
    "## Don't know where to start?\n",
    "\n",
    "**Challenges are brief tasks designed to help you practice specific skills:**\n",
    "\n",
    "- 🗺️ **Explore**: Compare the average number of bikes rented by the time of day (morning, afternoon, and evening) across the four different seasons.\n",
    "- 📊 **Visualize**: Create a plot to visualize the relationship between temperature and the number of bikes rented. Differentiate between seasons within the plot.\n",
    "- 🔎 **Analyze**: Which variables correlate most with the number of bikes rented, and how strong are these relationships?\n",
    "\n",
    "**Scenarios are broader questions to help you develop an end-to-end project for your portfolio:**\n",
    "\n",
    "A bike-sharing startup has just hired you as their data analyst. The business is scaling quickly, but the demand fluctuates a lot. This means that there are not enough usable bikes available on some days, and on other days there are too many bikes. If the company could predict demand in advance, it could avoid these situations.\n",
    "\n",
    "The founder of the company has asked you whether you can predict the number of bikes that will be rented based on information such as predicted weather, the time of year, and the time of day.\n",
    "\n",
    "You will need to prepare a report that is accessible to a broad audience. It will need to outline your steps, findings, and conclusions.\n",
    "\n",
    "---\n",
    "\n",
    "✍️ _If you have an idea for an interesting Scenario or Challenge, or have feedback on our existing ones, let us know! You can submit feedback by pressing the question mark in the top right corner of the screen and selecting \"Give Feedback\". Include the phrase \"Content Feedback\" to help us flag it in our system._"
   ]
  }
 ],
 "metadata": {
  "colab": {
   "name": "Welcome to DataCamp Workspaces.ipynb",
   "provenance": []
  },
  "kernelspec": {
   "display_name": "Python 3 (ipykernel)",
   "language": "python",
   "name": "python3"
  },
  "language_info": {
   "codemirror_mode": {
    "name": "ipython",
    "version": 3
   },
   "file_extension": ".py",
   "mimetype": "text/x-python",
   "name": "python",
   "nbconvert_exporter": "python",
   "pygments_lexer": "ipython3",
   "version": "3.9.13"
  },
  "varInspector": {
   "cols": {
    "lenName": 16,
    "lenType": 16,
    "lenVar": 40
   },
   "kernels_config": {
    "python": {
     "delete_cmd_postfix": "",
     "delete_cmd_prefix": "del ",
     "library": "var_list.py",
     "varRefreshCmd": "print(var_dic_list())"
    },
    "r": {
     "delete_cmd_postfix": ") ",
     "delete_cmd_prefix": "rm(",
     "library": "var_list.r",
     "varRefreshCmd": "cat(var_dic_list()) "
    }
   },
   "types_to_exclude": [
    "module",
    "function",
    "builtin_function_or_method",
    "instance",
    "_Feature"
   ],
   "window_display": false
  }
 },
 "nbformat": 4,
 "nbformat_minor": 5
}
