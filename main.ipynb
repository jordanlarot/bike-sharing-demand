{
 "cells": [
  {
   "cell_type": "markdown",
   "id": "aa097a11",
   "metadata": {},
   "source": [
    "# Bike Sharing Demand\n",
    "This dataset consists of the number of public bikes rented in Seoul's bike sharing system at each hour. It also includes information about the weather and the time, such as whether it was a public holiday."
   ]
  },
  {
   "cell_type": "markdown",
   "id": "91a664c7",
   "metadata": {},
   "source": [
    "## Import modules and data"
   ]
  },
  {
   "cell_type": "code",
   "execution_count": 130,
   "id": "e0682bd0",
   "metadata": {},
   "outputs": [],
   "source": [
    "# Import modules\n",
    "import pandas as pd\n",
    "import matplotlib.pyplot as plt\n",
    "import numpy as np\n",
    "import seaborn as sns\n",
    "from datetime import datetime\n",
    "import warnings\n",
    "\n",
    "# Ignore warnings\n",
    "warnings.filterwarnings('ignore')"
   ]
  },
  {
   "cell_type": "code",
   "execution_count": 131,
   "id": "61df4744",
   "metadata": {},
   "outputs": [],
   "source": [
    "# Import data\n",
    "file = 'data.csv'\n",
    "df = pd.read_csv(file)"
   ]
  },
  {
   "cell_type": "markdown",
   "id": "7b1a2abd",
   "metadata": {},
   "source": [
    "## Cleaning data and feature engineering"
   ]
  },
  {
   "cell_type": "code",
   "execution_count": 132,
   "id": "b8d34ec8",
   "metadata": {},
   "outputs": [
    {
     "data": {
      "text/plain": [
       "Date                         object\n",
       "Rented Bike Count             int64\n",
       "Hour                          int64\n",
       "Temperature(C)              float64\n",
       "Humidity(%)                   int64\n",
       "Wind speed (m/s)            float64\n",
       "Visibility (10m)              int64\n",
       "Dew point temperature(C)    float64\n",
       "Solar Radiation (MJ/m2)     float64\n",
       "Rainfall(mm)                float64\n",
       "Snowfall (cm)               float64\n",
       "Seasons                      object\n",
       "Holiday                      object\n",
       "Functioning Day              object\n",
       "dtype: object"
      ]
     },
     "execution_count": 132,
     "metadata": {},
     "output_type": "execute_result"
    }
   ],
   "source": [
    "# Check data types \n",
    "df.dtypes"
   ]
  },
  {
   "cell_type": "code",
   "execution_count": 133,
   "id": "inclusive-leeds",
   "metadata": {},
   "outputs": [],
   "source": [
    "# Convert date category to date time\n",
    "df['Date'] = pd.to_datetime(df['Date'])"
   ]
  },
  {
   "cell_type": "code",
   "execution_count": 134,
   "id": "42d8eb0f",
   "metadata": {},
   "outputs": [
    {
     "data": {
      "text/plain": [
       "Sunday       1296\n",
       "Wednesday    1272\n",
       "Tuesday      1272\n",
       "Thursday     1248\n",
       "Saturday     1248\n",
       "Friday       1224\n",
       "Monday       1200\n",
       "Name: day_of_week, dtype: int64"
      ]
     },
     "execution_count": 134,
     "metadata": {},
     "output_type": "execute_result"
    }
   ],
   "source": [
    "# Creating new column 'Week Day'\n",
    "df['day_of_week'] = df['Date'].dt.day_name()\n",
    "\n",
    "# Check unique values\n",
    "df['day_of_week'].value_counts()"
   ]
  },
  {
   "cell_type": "markdown",
   "id": "6596a58c",
   "metadata": {},
   "source": [
    "REASON CREATED: Day of the week can impact bike sharing demand. In particular, more people could rent bikes on the weekend because people could have more time (e.g. not working)"
   ]
  },
  {
   "cell_type": "code",
   "execution_count": 135,
   "id": "8586523a",
   "metadata": {},
   "outputs": [],
   "source": [
    "# Extracting month column \n",
    "df['month'] = pd.DatetimeIndex(df['Date']).month"
   ]
  },
  {
   "cell_type": "markdown",
   "id": "d85a0790",
   "metadata": {},
   "source": [
    "REASON CREATED: The month can impact bike sharing demand because demand may fluctuate depending on the time of year."
   ]
  },
  {
   "cell_type": "code",
   "execution_count": 136,
   "id": "5edea242-9793-45f3-9e17-f209e81de77a",
   "metadata": {},
   "outputs": [
    {
     "data": {
      "text/plain": [
       "Yes    8465\n",
       "No      295\n",
       "Name: Functioning Day, dtype: int64"
      ]
     },
     "execution_count": 136,
     "metadata": {},
     "output_type": "execute_result"
    }
   ],
   "source": [
    "# Count how many functioning and non-function days\n",
    "df['Functioning Day'].value_counts()"
   ]
  },
  {
   "cell_type": "code",
   "execution_count": 137,
   "id": "f94481c3",
   "metadata": {},
   "outputs": [
    {
     "name": "stdout",
     "output_type": "stream",
     "text": [
      "The maximum value of a non-functioning day is 0.\n"
     ]
    }
   ],
   "source": [
    "# Examining the maximum rented bike count for non-functioning days\n",
    "not_functioning = df['Functioning Day'] == \"No\"\n",
    "\n",
    "print(f'The maximum value of a non-functioning day is {df[not_functioning][\"Rented Bike Count\"].max()}.')"
   ]
  },
  {
   "cell_type": "markdown",
   "id": "236f2990",
   "metadata": {},
   "source": [
    "Since the maximum value is 0, I decided to remove non-functioning days from the dataset because they are not adding any value, and these data points could affect model performance."
   ]
  },
  {
   "cell_type": "code",
   "execution_count": 138,
   "id": "2eb0f177-64f6-4eaa-98c4-6d17b33d28f7",
   "metadata": {},
   "outputs": [
    {
     "data": {
      "text/plain": [
       "Yes    8465\n",
       "Name: Functioning Day, dtype: int64"
      ]
     },
     "execution_count": 138,
     "metadata": {},
     "output_type": "execute_result"
    }
   ],
   "source": [
    "# Getting the rows that are functioning days\n",
    "df = df[~not_functioning]\n",
    "\n",
    "# Confirming that the non-functioning days were dropped\n",
    "df['Functioning Day'].value_counts()"
   ]
  },
  {
   "cell_type": "markdown",
   "id": "eb393539",
   "metadata": {},
   "source": [
    "Since all of the data are function days, the 'Functioning Day' column becomes unneccessary. Thus, drop the the 'Functioning Day' column."
   ]
  },
  {
   "cell_type": "code",
   "execution_count": 139,
   "id": "7956a98b",
   "metadata": {},
   "outputs": [
    {
     "data": {
      "text/html": [
       "<div>\n",
       "<style scoped>\n",
       "    .dataframe tbody tr th:only-of-type {\n",
       "        vertical-align: middle;\n",
       "    }\n",
       "\n",
       "    .dataframe tbody tr th {\n",
       "        vertical-align: top;\n",
       "    }\n",
       "\n",
       "    .dataframe thead th {\n",
       "        text-align: right;\n",
       "    }\n",
       "</style>\n",
       "<table border=\"1\" class=\"dataframe\">\n",
       "  <thead>\n",
       "    <tr style=\"text-align: right;\">\n",
       "      <th></th>\n",
       "      <th>Date</th>\n",
       "      <th>Rented Bike Count</th>\n",
       "      <th>Hour</th>\n",
       "      <th>Temperature(C)</th>\n",
       "      <th>Humidity(%)</th>\n",
       "      <th>Wind speed (m/s)</th>\n",
       "      <th>Visibility (10m)</th>\n",
       "      <th>Dew point temperature(C)</th>\n",
       "      <th>Solar Radiation (MJ/m2)</th>\n",
       "      <th>Rainfall(mm)</th>\n",
       "      <th>Snowfall (cm)</th>\n",
       "      <th>Seasons</th>\n",
       "      <th>Holiday</th>\n",
       "      <th>day_of_week</th>\n",
       "      <th>month</th>\n",
       "    </tr>\n",
       "  </thead>\n",
       "  <tbody>\n",
       "    <tr>\n",
       "      <th>0</th>\n",
       "      <td>2017-01-12</td>\n",
       "      <td>254</td>\n",
       "      <td>0</td>\n",
       "      <td>-5.2</td>\n",
       "      <td>37</td>\n",
       "      <td>2.2</td>\n",
       "      <td>2000</td>\n",
       "      <td>-17.6</td>\n",
       "      <td>0.0</td>\n",
       "      <td>0.0</td>\n",
       "      <td>0.0</td>\n",
       "      <td>Winter</td>\n",
       "      <td>No Holiday</td>\n",
       "      <td>Thursday</td>\n",
       "      <td>1</td>\n",
       "    </tr>\n",
       "    <tr>\n",
       "      <th>1</th>\n",
       "      <td>2017-01-12</td>\n",
       "      <td>204</td>\n",
       "      <td>1</td>\n",
       "      <td>-5.5</td>\n",
       "      <td>38</td>\n",
       "      <td>0.8</td>\n",
       "      <td>2000</td>\n",
       "      <td>-17.6</td>\n",
       "      <td>0.0</td>\n",
       "      <td>0.0</td>\n",
       "      <td>0.0</td>\n",
       "      <td>Winter</td>\n",
       "      <td>No Holiday</td>\n",
       "      <td>Thursday</td>\n",
       "      <td>1</td>\n",
       "    </tr>\n",
       "    <tr>\n",
       "      <th>2</th>\n",
       "      <td>2017-01-12</td>\n",
       "      <td>173</td>\n",
       "      <td>2</td>\n",
       "      <td>-6.0</td>\n",
       "      <td>39</td>\n",
       "      <td>1.0</td>\n",
       "      <td>2000</td>\n",
       "      <td>-17.7</td>\n",
       "      <td>0.0</td>\n",
       "      <td>0.0</td>\n",
       "      <td>0.0</td>\n",
       "      <td>Winter</td>\n",
       "      <td>No Holiday</td>\n",
       "      <td>Thursday</td>\n",
       "      <td>1</td>\n",
       "    </tr>\n",
       "    <tr>\n",
       "      <th>3</th>\n",
       "      <td>2017-01-12</td>\n",
       "      <td>107</td>\n",
       "      <td>3</td>\n",
       "      <td>-6.2</td>\n",
       "      <td>40</td>\n",
       "      <td>0.9</td>\n",
       "      <td>2000</td>\n",
       "      <td>-17.6</td>\n",
       "      <td>0.0</td>\n",
       "      <td>0.0</td>\n",
       "      <td>0.0</td>\n",
       "      <td>Winter</td>\n",
       "      <td>No Holiday</td>\n",
       "      <td>Thursday</td>\n",
       "      <td>1</td>\n",
       "    </tr>\n",
       "    <tr>\n",
       "      <th>4</th>\n",
       "      <td>2017-01-12</td>\n",
       "      <td>78</td>\n",
       "      <td>4</td>\n",
       "      <td>-6.0</td>\n",
       "      <td>36</td>\n",
       "      <td>2.3</td>\n",
       "      <td>2000</td>\n",
       "      <td>-18.6</td>\n",
       "      <td>0.0</td>\n",
       "      <td>0.0</td>\n",
       "      <td>0.0</td>\n",
       "      <td>Winter</td>\n",
       "      <td>No Holiday</td>\n",
       "      <td>Thursday</td>\n",
       "      <td>1</td>\n",
       "    </tr>\n",
       "  </tbody>\n",
       "</table>\n",
       "</div>"
      ],
      "text/plain": [
       "        Date  Rented Bike Count  Hour  Temperature(C)  Humidity(%)  \\\n",
       "0 2017-01-12                254     0            -5.2           37   \n",
       "1 2017-01-12                204     1            -5.5           38   \n",
       "2 2017-01-12                173     2            -6.0           39   \n",
       "3 2017-01-12                107     3            -6.2           40   \n",
       "4 2017-01-12                 78     4            -6.0           36   \n",
       "\n",
       "   Wind speed (m/s)  Visibility (10m)  Dew point temperature(C)  \\\n",
       "0               2.2              2000                     -17.6   \n",
       "1               0.8              2000                     -17.6   \n",
       "2               1.0              2000                     -17.7   \n",
       "3               0.9              2000                     -17.6   \n",
       "4               2.3              2000                     -18.6   \n",
       "\n",
       "   Solar Radiation (MJ/m2)  Rainfall(mm)  Snowfall (cm) Seasons     Holiday  \\\n",
       "0                      0.0           0.0            0.0  Winter  No Holiday   \n",
       "1                      0.0           0.0            0.0  Winter  No Holiday   \n",
       "2                      0.0           0.0            0.0  Winter  No Holiday   \n",
       "3                      0.0           0.0            0.0  Winter  No Holiday   \n",
       "4                      0.0           0.0            0.0  Winter  No Holiday   \n",
       "\n",
       "  day_of_week  month  \n",
       "0    Thursday      1  \n",
       "1    Thursday      1  \n",
       "2    Thursday      1  \n",
       "3    Thursday      1  \n",
       "4    Thursday      1  "
      ]
     },
     "execution_count": 139,
     "metadata": {},
     "output_type": "execute_result"
    }
   ],
   "source": [
    "# Dropping 'Functioning Day' column\n",
    "df.drop(columns=['Functioning Day'], axis=1, inplace=True)\n",
    "\n",
    "# Reset index\n",
    "df.reset_index()\n",
    "\n",
    "# Confirming column was dropped\n",
    "df.head()"
   ]
  },
  {
   "cell_type": "code",
   "execution_count": 140,
   "id": "acfafbea",
   "metadata": {},
   "outputs": [
    {
     "data": {
      "text/plain": [
       "Date                        datetime64[ns]\n",
       "Rented Bike Count                    int64\n",
       "Hour                              category\n",
       "Temperature(C)                     float64\n",
       "Humidity(%)                          int64\n",
       "Wind speed (m/s)                   float64\n",
       "Visibility (10m)                     int64\n",
       "Dew point temperature(C)           float64\n",
       "Solar Radiation (MJ/m2)            float64\n",
       "Rainfall(mm)                       float64\n",
       "Snowfall (cm)                      float64\n",
       "Seasons                           category\n",
       "Holiday                           category\n",
       "day_of_week                       category\n",
       "month                             category\n",
       "dtype: object"
      ]
     },
     "execution_count": 140,
     "metadata": {},
     "output_type": "execute_result"
    }
   ],
   "source": [
    "# Converting 'Seasons', 'Holiday,' and 'day_of_week' to categorical\n",
    "cat = ['Seasons', 'Holiday', 'day_of_week', 'month', 'Hour']\n",
    "\n",
    "for c in cat:\n",
    "    df[c] = df[c].astype('category')\n",
    "    \n",
    "# Verify change\n",
    "df.dtypes"
   ]
  },
  {
   "cell_type": "code",
   "execution_count": 141,
   "id": "480490da",
   "metadata": {},
   "outputs": [
    {
     "data": {
      "text/html": [
       "<div>\n",
       "<style scoped>\n",
       "    .dataframe tbody tr th:only-of-type {\n",
       "        vertical-align: middle;\n",
       "    }\n",
       "\n",
       "    .dataframe tbody tr th {\n",
       "        vertical-align: top;\n",
       "    }\n",
       "\n",
       "    .dataframe thead th {\n",
       "        text-align: right;\n",
       "    }\n",
       "</style>\n",
       "<table border=\"1\" class=\"dataframe\">\n",
       "  <thead>\n",
       "    <tr style=\"text-align: right;\">\n",
       "      <th></th>\n",
       "      <th>Rented Bike Count</th>\n",
       "      <th>Hour</th>\n",
       "      <th>Temperature(C)</th>\n",
       "      <th>Humidity(%)</th>\n",
       "      <th>Wind speed (m/s)</th>\n",
       "      <th>Rainfall(mm)</th>\n",
       "      <th>Seasons</th>\n",
       "      <th>Holiday</th>\n",
       "      <th>day_of_week</th>\n",
       "      <th>month</th>\n",
       "    </tr>\n",
       "  </thead>\n",
       "  <tbody>\n",
       "    <tr>\n",
       "      <th>0</th>\n",
       "      <td>254</td>\n",
       "      <td>0</td>\n",
       "      <td>-5.2</td>\n",
       "      <td>37</td>\n",
       "      <td>2.2</td>\n",
       "      <td>0.0</td>\n",
       "      <td>Winter</td>\n",
       "      <td>No Holiday</td>\n",
       "      <td>Thursday</td>\n",
       "      <td>1</td>\n",
       "    </tr>\n",
       "    <tr>\n",
       "      <th>1</th>\n",
       "      <td>204</td>\n",
       "      <td>1</td>\n",
       "      <td>-5.5</td>\n",
       "      <td>38</td>\n",
       "      <td>0.8</td>\n",
       "      <td>0.0</td>\n",
       "      <td>Winter</td>\n",
       "      <td>No Holiday</td>\n",
       "      <td>Thursday</td>\n",
       "      <td>1</td>\n",
       "    </tr>\n",
       "    <tr>\n",
       "      <th>2</th>\n",
       "      <td>173</td>\n",
       "      <td>2</td>\n",
       "      <td>-6.0</td>\n",
       "      <td>39</td>\n",
       "      <td>1.0</td>\n",
       "      <td>0.0</td>\n",
       "      <td>Winter</td>\n",
       "      <td>No Holiday</td>\n",
       "      <td>Thursday</td>\n",
       "      <td>1</td>\n",
       "    </tr>\n",
       "    <tr>\n",
       "      <th>3</th>\n",
       "      <td>107</td>\n",
       "      <td>3</td>\n",
       "      <td>-6.2</td>\n",
       "      <td>40</td>\n",
       "      <td>0.9</td>\n",
       "      <td>0.0</td>\n",
       "      <td>Winter</td>\n",
       "      <td>No Holiday</td>\n",
       "      <td>Thursday</td>\n",
       "      <td>1</td>\n",
       "    </tr>\n",
       "    <tr>\n",
       "      <th>4</th>\n",
       "      <td>78</td>\n",
       "      <td>4</td>\n",
       "      <td>-6.0</td>\n",
       "      <td>36</td>\n",
       "      <td>2.3</td>\n",
       "      <td>0.0</td>\n",
       "      <td>Winter</td>\n",
       "      <td>No Holiday</td>\n",
       "      <td>Thursday</td>\n",
       "      <td>1</td>\n",
       "    </tr>\n",
       "  </tbody>\n",
       "</table>\n",
       "</div>"
      ],
      "text/plain": [
       "   Rented Bike Count Hour  Temperature(C)  Humidity(%)  Wind speed (m/s)  \\\n",
       "0                254    0            -5.2           37               2.2   \n",
       "1                204    1            -5.5           38               0.8   \n",
       "2                173    2            -6.0           39               1.0   \n",
       "3                107    3            -6.2           40               0.9   \n",
       "4                 78    4            -6.0           36               2.3   \n",
       "\n",
       "   Rainfall(mm) Seasons     Holiday day_of_week month  \n",
       "0           0.0  Winter  No Holiday    Thursday     1  \n",
       "1           0.0  Winter  No Holiday    Thursday     1  \n",
       "2           0.0  Winter  No Holiday    Thursday     1  \n",
       "3           0.0  Winter  No Holiday    Thursday     1  \n",
       "4           0.0  Winter  No Holiday    Thursday     1  "
      ]
     },
     "execution_count": 141,
     "metadata": {},
     "output_type": "execute_result"
    }
   ],
   "source": [
    "# Dropping 'unneccesary columns'\n",
    "cols = ['Solar Radiation (MJ/m2)', 'Dew point temperature(C)', 'Visibility (10m)', 'Snowfall (cm)', 'Date']\n",
    "df.drop(cols, axis=1, inplace=True)\n",
    "df.reset_index()\n",
    "\n",
    "# Verify change\n",
    "df.head()"
   ]
  },
  {
   "cell_type": "markdown",
   "id": "bbd7e1c3",
   "metadata": {},
   "source": [
    "## Exploratory Data Analysis"
   ]
  },
  {
   "cell_type": "code",
   "execution_count": 142,
   "id": "edead391-7965-41f3-ac67-9a1d64b8101c",
   "metadata": {},
   "outputs": [
    {
     "data": {
      "text/plain": [
       "Rented Bike Count    1.000000\n",
       "Temperature(C)       0.562740\n",
       "Wind speed (m/s)     0.125022\n",
       "Rainfall(mm)        -0.128626\n",
       "Humidity(%)         -0.201973\n",
       "Name: Rented Bike Count, dtype: float64"
      ]
     },
     "execution_count": 142,
     "metadata": {},
     "output_type": "execute_result"
    }
   ],
   "source": [
    "# Looking for correlations with 'Rented Bike Count'\n",
    "corr_matrix = df.corr()\n",
    "corr_matrix['Rented Bike Count'].sort_values(ascending=False)"
   ]
  },
  {
   "cell_type": "markdown",
   "id": "cd2e1ec6",
   "metadata": {},
   "source": [
    "\n",
    "Based on the correlation matrix, 'Temperature(C)' has the highest correlation with 'Rented Bike Count'. "
   ]
  },
  {
   "cell_type": "code",
   "execution_count": 143,
   "id": "ace2acee",
   "metadata": {},
   "outputs": [
    {
     "data": {
      "text/plain": [
       "<AxesSubplot:xlabel='Temperature(C)', ylabel='Rented Bike Count'>"
      ]
     },
     "execution_count": 143,
     "metadata": {},
     "output_type": "execute_result"
    },
    {
     "data": {
      "image/png": "[encoded data removed]",
      "text/plain": [
       "<Figure size 432x288 with 1 Axes>"
      ]
     },
     "metadata": {
      "needs_background": "light"
     },
     "output_type": "display_data"
    }
   ],
   "source": [
    "# Visualizing Temperature(C) and bike count\n",
    "sns.scatterplot(x='Temperature(C)', y='Rented Bike Count', data=df)"
   ]
  },
  {
   "cell_type": "markdown",
   "id": "07115a81",
   "metadata": {},
   "source": [
    "'Temperature(C)' and 'Rented Bike Count' do not have a linear relationship. It seems that they have a nonlinear relationship because 'Rented Bike Count' increases as 'Temperature(C)' increases, but that linear trend disappears around 25°C (or 77°F) and 'Rented Bike Count' decreases."
   ]
  },
  {
   "cell_type": "code",
   "execution_count": 144,
   "id": "d1f91560",
   "metadata": {},
   "outputs": [
    {
     "data": {
      "text/plain": [
       "<AxesSubplot:xlabel='Hour', ylabel='Rented Bike Count'>"
      ]
     },
     "execution_count": 144,
     "metadata": {},
     "output_type": "execute_result"
    },
    {
     "data": {
      "image/png": "[encoded data removed]",
      "text/plain": [
       "<Figure size 432x288 with 1 Axes>"
      ]
     },
     "metadata": {
      "needs_background": "light"
     },
     "output_type": "display_data"
    }
   ],
   "source": [
    "# Visualizing Hour and bike count\n",
    "sns.barplot(x='Hour', y='Rented Bike Count', data=df)"
   ]
  },
  {
   "cell_type": "markdown",
   "id": "2a53f801",
   "metadata": {},
   "source": [
    "The rented bike count is the highest at 6pm (18), 7pm (19), and 8am (8)"
   ]
  },
  {
   "cell_type": "code",
   "execution_count": 145,
   "id": "d9fad15d",
   "metadata": {},
   "outputs": [
    {
     "data": {
      "text/plain": [
       "<AxesSubplot:xlabel='month', ylabel='Rented Bike Count'>"
      ]
     },
     "execution_count": 145,
     "metadata": {},
     "output_type": "execute_result"
    },
    {
     "data": {
      "image/png": "[encoded data removed]",
      "text/plain": [
       "<Figure size 432x288 with 1 Axes>"
      ]
     },
     "metadata": {
      "needs_background": "light"
     },
     "output_type": "display_data"
    }
   ],
   "source": [
    "# Visualizing month and bike count\n",
    "sns.barplot(x='month', y='Rented Bike Count', data=df)"
   ]
  },
  {
   "cell_type": "markdown",
   "id": "38be736a",
   "metadata": {},
   "source": [
    "The rented bike count is the lowest in January (1), February (2), and December (12). "
   ]
  },
  {
   "cell_type": "markdown",
   "id": "049a308e",
   "metadata": {},
   "source": [
    "## Model selection"
   ]
  },
  {
   "cell_type": "code",
   "execution_count": 146,
   "id": "6d46f48d-0a35-4a0b-b5ed-d4d981b52c67",
   "metadata": {},
   "outputs": [],
   "source": [
    "# Import train_test_split\n",
    "from sklearn.model_selection import train_test_split\n",
    "\n",
    "# Splitting data into training and test set \n",
    "train_set, test_set = train_test_split(df, test_size=0.2, random_state=42, stratify=df['month'])\n",
    "\n",
    "# Making a copy of training set\n",
    "df = train_set.drop('Rented Bike Count', axis=1)\n",
    "df_labels = train_set['Rented Bike Count'].copy()\n",
    "\n",
    "# Defining test set\n",
    "X_test = test_set.drop('Rented Bike Count', axis=1)\n",
    "y_test = test_set['Rented Bike Count'].copy()"
   ]
  },
  {
   "cell_type": "code",
   "execution_count": 147,
   "id": "fade23db-92cb-4c74-b700-5c1bd8bc7995",
   "metadata": {},
   "outputs": [],
   "source": [
    "# Import Pipeline, MinMaxScaler\n",
    "from sklearn.pipeline import Pipeline\n",
    "from sklearn.preprocessing import MinMaxScaler\n",
    "\n",
    "# Dealing with numerical features\n",
    "cat_cols = ['Hour', 'Seasons', 'Holiday', 'day_of_week', 'month']\n",
    "\n",
    "df_num = df.drop(cat_cols, axis=1)\n",
    "\n",
    "num_pipeline = Pipeline([\n",
    "    \n",
    "            ('min_max_scaler', MinMaxScaler())\n",
    "    \n",
    "        ])"
   ]
  },
  {
   "cell_type": "code",
   "execution_count": 148,
   "id": "46376dc5-2864-4c0e-a87d-6b3d0960da6e",
   "metadata": {},
   "outputs": [],
   "source": [
    "# Import OneHotEncoder\n",
    "from sklearn.preprocessing import OneHotEncoder\n",
    "\n",
    "# Dealing with categorical features\n",
    "df_cat = df[cat_cols]\n",
    "\n",
    "\n",
    "cat_pipeline = Pipeline([\n",
    "    \n",
    "            ('one_hot', OneHotEncoder())\n",
    "        \n",
    "        ])"
   ]
  },
  {
   "cell_type": "code",
   "execution_count": 149,
   "id": "50629e39-52ce-49da-9a76-3671716290eb",
   "metadata": {},
   "outputs": [],
   "source": [
    "# Import ColumnTransformer\n",
    "from sklearn.compose import ColumnTransformer\n",
    "\n",
    "# Combine pipeline steps\n",
    "num_attribs = list(df_num)\n",
    "cat_attribs = cat_cols\n",
    "\n",
    "full_pipeline = ColumnTransformer([\n",
    "                \n",
    "                ('num', num_pipeline, num_attribs),\n",
    "                ('cat', cat_pipeline, cat_attribs),\n",
    "    \n",
    "            ])\n",
    "\n",
    "# Fit and transform\n",
    "df_prepared = full_pipeline.fit_transform(df)"
   ]
  },
  {
   "cell_type": "markdown",
   "id": "4f266cd9",
   "metadata": {},
   "source": [
    "### Linear Regression"
   ]
  },
  {
   "cell_type": "code",
   "execution_count": 150,
   "id": "7c5b9b7a-164a-481e-90ff-4501705c83d7",
   "metadata": {},
   "outputs": [
    {
     "data": {
      "text/plain": [
       "363.28365306350815"
      ]
     },
     "execution_count": 150,
     "metadata": {},
     "output_type": "execute_result"
    }
   ],
   "source": [
    "# Import LinearRegression, mean_squared_error, and cross_val_score\n",
    "from sklearn.linear_model import LinearRegression\n",
    "from sklearn.metrics import mean_squared_error as MSE\n",
    "from sklearn.model_selection import cross_val_score\n",
    "\n",
    "# Instantiate LinearRegression object: lin_reg \n",
    "lin_reg = LinearRegression()\n",
    "\n",
    "# Fit and predict\n",
    "lin_reg.fit(df_prepared, df_labels)\n",
    "lin_predictions = lin_reg.predict(df_prepared)\n",
    "\n",
    "# # Calculate average RMSE \n",
    "# lin_scores = cross_val_score(lin_reg, df_prepared, df_labels, scoring='neg_mean_squared_error', cv=10)\n",
    "# lin_rmse_scores = np.sqrt(-lin_scores)\n",
    "\n",
    "# round(lin_rmse_scores.mean(), 2)\n",
    "\n",
    "rmse_lin = MSE(df_labels, lin_predictions)**(1/2)\n",
    "rmse_lin"
   ]
  },
  {
   "cell_type": "markdown",
   "id": "260b24df",
   "metadata": {},
   "source": [
    "### Ridge Regression"
   ]
  },
  {
   "cell_type": "code",
   "execution_count": 151,
   "id": "0f5ff6c3",
   "metadata": {},
   "outputs": [
    {
     "data": {
      "text/plain": [
       "363.3172567704204"
      ]
     },
     "execution_count": 151,
     "metadata": {},
     "output_type": "execute_result"
    }
   ],
   "source": [
    "# Import Ridge\n",
    "from sklearn.linear_model import Ridge\n",
    "\n",
    "# Instantiate Ridge object\n",
    "ridge = Ridge(alpha=0.5)\n",
    "\n",
    "# Fit and predict\n",
    "ridge.fit(df_prepared, df_labels)\n",
    "ridge_predictions = ridge.predict(df_prepared)\n",
    "\n",
    "# Calculate average RMSE \n",
    "# ridge_scores = cross_val_score(ridge, df_prepared, df_labels, scoring='neg_mean_squared_error', cv=10)\n",
    "# ridge_rmse_scores = np.sqrt(-ridge_scores)\n",
    "\n",
    "# round(ridge_rmse_scores.mean(), 2) \n",
    "rmse_ridge = MSE(df_labels, ridge_predictions)**(1/2)\n",
    "rmse_ridge"
   ]
  },
  {
   "cell_type": "markdown",
   "id": "38f2127f",
   "metadata": {},
   "source": [
    "### Lasso Regression"
   ]
  },
  {
   "cell_type": "code",
   "execution_count": 152,
   "id": "fb9bfb4e",
   "metadata": {},
   "outputs": [
    {
     "data": {
      "text/plain": [
       "363.89348400218404"
      ]
     },
     "execution_count": 152,
     "metadata": {},
     "output_type": "execute_result"
    }
   ],
   "source": [
    "# Import Lasso\n",
    "from sklearn.linear_model import Lasso\n",
    "\n",
    "# Create lasso regression object\n",
    "lasso = Lasso(alpha=0.5) # normalize ensures variables are on same scale\n",
    "\n",
    "# fit and predict\n",
    "lasso.fit(df_prepared, df_labels)\n",
    "lasso_pred = lasso.predict(df_prepared)\n",
    "\n",
    "# Calculate average RMSE \n",
    "# lasso_scores = cross_val_score(lasso, df_prepared, df_labels, scoring='neg_mean_squared_error', cv=10)\n",
    "# lasso_rmse_scores = np.sqrt(-lasso_scores)\n",
    "\n",
    "# round(lasso_rmse_scores.mean(), 2)\n",
    "\n",
    "rmse_lasso = MSE(df_labels, lasso_pred)**(1/2)\n",
    "rmse_lasso"
   ]
  },
  {
   "cell_type": "markdown",
   "id": "0f3dc267",
   "metadata": {},
   "source": [
    "### Support Vector Regression"
   ]
  },
  {
   "cell_type": "code",
   "execution_count": 153,
   "id": "dca62feb",
   "metadata": {},
   "outputs": [
    {
     "data": {
      "text/plain": [
       "611.7062773879956"
      ]
     },
     "execution_count": 153,
     "metadata": {},
     "output_type": "execute_result"
    }
   ],
   "source": [
    "# Import SVR\n",
    "from sklearn.svm import SVR\n",
    "\n",
    "# Instantiate SVR object: svr\n",
    "svr = SVR()\n",
    "\n",
    "# Fit and predict\n",
    "svr.fit(df_prepared, df_labels)\n",
    "svr_pred = svr.predict(df_prepared)\n",
    "\n",
    "# Calculate aberage RMSE\n",
    "# svr_scores = cross_val_score(svr, df_prepared, df_labels, scoring='neg_mean_squared_error', cv=10)\n",
    "# svr_rmse_scores = np.sqrt(-svr_scores)\n",
    "# round(svr_rmse_scores.mean(), 2)\n",
    "\n",
    "rmse_svr = MSE(df_labels, svr_pred)**(1/2)\n",
    "rmse_svr"
   ]
  },
  {
   "cell_type": "markdown",
   "id": "6aecb8e9",
   "metadata": {},
   "source": [
    "### Decision Tree Regressor"
   ]
  },
  {
   "cell_type": "code",
   "execution_count": 154,
   "id": "be39c396-d128-46c0-9119-b94315773a86",
   "metadata": {},
   "outputs": [
    {
     "data": {
      "text/plain": [
       "423.84313973371735"
      ]
     },
     "execution_count": 154,
     "metadata": {},
     "output_type": "execute_result"
    }
   ],
   "source": [
    "# Import DecisionTreeRegressor\n",
    "from sklearn.tree import DecisionTreeRegressor\n",
    "\n",
    "# Set seed to 42 for reproducibility\n",
    "SEED = 42\n",
    "\n",
    "# Instantiate DecisionTreeRegressor object\n",
    "tree_reg = DecisionTreeRegressor(random_state=SEED, max_depth=5, max_features=10, min_samples_leaf=10)\n",
    "\n",
    "# Fit and predict\n",
    "tree_reg.fit(df_prepared, df_labels)\n",
    "tree_pred = tree_reg.predict(df_prepared)\n",
    "\n",
    "# Calculate average RMSE \n",
    "# tree_reg_scores = cross_val_score(tree_reg, df_prepared, df_labels, scoring='neg_mean_squared_error', cv=10)\n",
    "# tree_rmse_scores = np.sqrt(-tree_reg_scores)\n",
    "# round(tree_rmse_scores.mean(), 2)\n",
    "\n",
    "rmse_tree = MSE(df_labels, tree_pred)**(1/2)\n",
    "rmse_tree"
   ]
  },
  {
   "cell_type": "markdown",
   "id": "0b3d7db4",
   "metadata": {},
   "source": [
    "### Random Forest Model"
   ]
  },
  {
   "cell_type": "code",
   "execution_count": 155,
   "id": "e9b4462e-3009-44f6-af1f-2eec7ce629f0",
   "metadata": {},
   "outputs": [
    {
     "data": {
      "text/plain": [
       "90.46947554166694"
      ]
     },
     "execution_count": 155,
     "metadata": {},
     "output_type": "execute_result"
    }
   ],
   "source": [
    "# Import RandomForestRegressor\n",
    "from sklearn.ensemble import RandomForestRegressor\n",
    "\n",
    "# Instantiate RandomForestRegressor object\n",
    "forest_reg = RandomForestRegressor(max_features=10, n_estimators=35, random_state=SEED)\n",
    "\n",
    "# Fit and predict\n",
    "forest_reg.fit(df_prepared, df_labels)\n",
    "forest_predictions = forest_reg.predict(df_prepared)\n",
    "\n",
    "# Calculate average RMSE\n",
    "# forest_scores = cross_val_score(forest_reg, df_prepared, df_labels, scoring='neg_mean_squared_error', cv=10)\n",
    "# forest_rmse_scores = np.sqrt(-forest_scores)\n",
    "# round(forest_rmse_scores.mean(), 2)\n",
    "\n",
    "rmse_forest = MSE(df_labels, forest_predictions)**(1/2)\n",
    "rmse_forest"
   ]
  },
  {
   "cell_type": "markdown",
   "id": "d628cc7d",
   "metadata": {},
   "source": [
    "### Gradient Boosting"
   ]
  },
  {
   "cell_type": "code",
   "execution_count": 156,
   "id": "2f9d99b9",
   "metadata": {},
   "outputs": [
    {
     "data": {
      "text/plain": [
       "211.6072064765416"
      ]
     },
     "execution_count": 156,
     "metadata": {},
     "output_type": "execute_result"
    }
   ],
   "source": [
    "# Import modules\n",
    "from sklearn.ensemble import GradientBoostingRegressor\n",
    "\n",
    "# Instantiate a GradientBoostingRegressor object: gbr\n",
    "gbr = GradientBoostingRegressor(n_estimators=300, max_depth=3, random_state=SEED)\n",
    "\n",
    "# Fit and predict\n",
    "gbr.fit(df_prepared, df_labels)\n",
    "gbr_pred = gbr.predict(df_prepared)\n",
    "\n",
    "# gbr_scores = cross_val_score(gbr, df_prepared, df_labels, scoring='neg_mean_squared_error', cv=10)\n",
    "# gbr_rmse_scores = np.sqrt(-forest_scores)\n",
    "# round(gbr_rmse_scores.mean(), 2)\n",
    "\n",
    "gbr_rmse = MSE(df_labels, gbr_pred)**(1/2)\n",
    "gbr_rmse"
   ]
  },
  {
   "cell_type": "markdown",
   "id": "baf5e73b",
   "metadata": {},
   "source": [
    "### AdaBoost Regressor"
   ]
  },
  {
   "cell_type": "code",
   "execution_count": 157,
   "id": "20ba7d52",
   "metadata": {},
   "outputs": [
    {
     "data": {
      "text/plain": [
       "48.215185031710966"
      ]
     },
     "execution_count": 157,
     "metadata": {},
     "output_type": "execute_result"
    }
   ],
   "source": [
    "# Import AdaBoostRegressor\n",
    "from sklearn.ensemble import AdaBoostRegressor\n",
    "\n",
    "# Instantiate RandomForestRegressor and AdaBoostRegressor objects\n",
    "rf = RandomForestRegressor(max_features=10, n_estimators=35, random_state=SEED)\n",
    "adb = AdaBoostRegressor(base_estimator=rf, n_estimators=100)\n",
    "\n",
    "# Fit and predict\n",
    "adb.fit(df_prepared, df_labels)\n",
    "adb_pred = adb.predict(df_prepared)\n",
    "\n",
    "# Calculate RMSE\n",
    "adb_rmse = MSE(df_labels, adb_pred)**(1/2)\n",
    "adb_rmse"
   ]
  },
  {
   "cell_type": "markdown",
   "id": "2d4038b0",
   "metadata": {},
   "source": [
    "### Ensemble Learning"
   ]
  },
  {
   "cell_type": "code",
   "execution_count": 158,
   "id": "3e4fb4e6",
   "metadata": {},
   "outputs": [
    {
     "data": {
      "text/plain": [
       "104.95070525624767"
      ]
     },
     "execution_count": 158,
     "metadata": {},
     "output_type": "execute_result"
    }
   ],
   "source": [
    "# Import VotingRegressor\n",
    "from sklearn.ensemble import VotingRegressor\n",
    "\n",
    "# Instantiate RandomForestRegressor and AdaBoostRegressor objects\n",
    "rf = RandomForestRegressor(max_features=10, n_estimators=35, random_state=SEED)\n",
    "adb = AdaBoostRegressor(base_estimator=rf, n_estimators=100)\n",
    "gbr = GradientBoostingRegressor(n_estimators=300, max_depth=3, random_state=SEED)\n",
    "\n",
    "# Define list of regressors\n",
    "regressors = [('Random Forest', rf),\n",
    "              ('AdaBoost', adb),\n",
    "              ('Gradient Boosting', gbr)]\n",
    "\n",
    "# Instantiate VotingRegressor\n",
    "vr = VotingRegressor(estimators=regressors)\n",
    "\n",
    "# Fit and predict\n",
    "vr.fit(df_prepared, df_labels)\n",
    "vr_pred = vr.predict(df_prepared)\n",
    "\n",
    "# Calculate RMSE\n",
    "vr_rmse = MSE(df_labels, vr_pred)**(1/2)\n",
    "vr_rmse"
   ]
  },
  {
   "cell_type": "markdown",
   "id": "bcd3cf3f",
   "metadata": {},
   "source": [
    "#### Model Selected\n",
    "AdaBoost Regressor"
   ]
  },
  {
   "cell_type": "markdown",
   "id": "9bfc088d",
   "metadata": {},
   "source": [
    "### Hyperparameter Tuning"
   ]
  },
  {
   "cell_type": "code",
   "execution_count": 159,
   "id": "0ecdfdb8",
   "metadata": {},
   "outputs": [
    {
     "data": {
      "text/plain": [
       "{'base_estimator__bootstrap': True,\n",
       " 'base_estimator__ccp_alpha': 0.0,\n",
       " 'base_estimator__criterion': 'squared_error',\n",
       " 'base_estimator__max_depth': None,\n",
       " 'base_estimator__max_features': 10,\n",
       " 'base_estimator__max_leaf_nodes': None,\n",
       " 'base_estimator__max_samples': None,\n",
       " 'base_estimator__min_impurity_decrease': 0.0,\n",
       " 'base_estimator__min_samples_leaf': 1,\n",
       " 'base_estimator__min_samples_split': 2,\n",
       " 'base_estimator__min_weight_fraction_leaf': 0.0,\n",
       " 'base_estimator__n_estimators': 35,\n",
       " 'base_estimator__n_jobs': None,\n",
       " 'base_estimator__oob_score': False,\n",
       " 'base_estimator__random_state': 42,\n",
       " 'base_estimator__verbose': 0,\n",
       " 'base_estimator__warm_start': False,\n",
       " 'base_estimator': RandomForestRegressor(max_features=10, n_estimators=35, random_state=42),\n",
       " 'learning_rate': 1.0,\n",
       " 'loss': 'linear',\n",
       " 'n_estimators': 100,\n",
       " 'random_state': None}"
      ]
     },
     "execution_count": 159,
     "metadata": {},
     "output_type": "execute_result"
    }
   ],
   "source": [
    "adb.get_params()"
   ]
  },
  {
   "cell_type": "code",
   "execution_count": 160,
   "id": "767814cc",
   "metadata": {},
   "outputs": [
    {
     "data": {
      "text/plain": [
       "{'bootstrap': True,\n",
       " 'ccp_alpha': 0.0,\n",
       " 'criterion': 'squared_error',\n",
       " 'max_depth': None,\n",
       " 'max_features': 10,\n",
       " 'max_leaf_nodes': None,\n",
       " 'max_samples': None,\n",
       " 'min_impurity_decrease': 0.0,\n",
       " 'min_samples_leaf': 1,\n",
       " 'min_samples_split': 2,\n",
       " 'min_weight_fraction_leaf': 0.0,\n",
       " 'n_estimators': 35,\n",
       " 'n_jobs': None,\n",
       " 'oob_score': False,\n",
       " 'random_state': 42,\n",
       " 'verbose': 0,\n",
       " 'warm_start': False}"
      ]
     },
     "execution_count": 160,
     "metadata": {},
     "output_type": "execute_result"
    }
   ],
   "source": [
    "rf.get_params()"
   ]
  },
  {
   "cell_type": "code",
   "execution_count": null,
   "id": "f314eb1c",
   "metadata": {},
   "outputs": [],
   "source": [
    "# Import GridSearchCV\n",
    "from sklearn.model_selection import GridSearchCV\n",
    "\n",
    "# Define parameter grid\n",
    "param_grid = {'base_estimator__max_depth': np.arange(1,6), \n",
    "              'base_estimator__max_features': np.arange(10, 20),\n",
    "              'base_estimator__min_samples_leaf': np.arange(1, 5),\n",
    "              'base_estimator__n_estimators':np.arange(25, 50, 5)}\n",
    "\n",
    "# Instantiate RandomForestRegressor and AdaBoostRegressor objects\n",
    "rf = RandomForestRegressor(max_features=10, n_estimators=35, random_state=SEED)\n",
    "adb = AdaBoostRegressor(base_estimator=rf, n_estimators=100) \n",
    "\n",
    "# Perform GridSearchCV\n",
    "adb_cv = GridSearchCV(adb, param_grid, cv=5)\n",
    "\n",
    "# Fit data\n",
    "adb_cv.fit(df_prepared, df_labels)\n",
    "\n",
    "# Print the tuned parameters and score\n",
    "print(\"The best parameters for AdaBoost Regressor: {}\".format(adb_cv.best_params_))\n",
    "print(\"Best score is {}\".format(adb_cv.best_score_))"
   ]
  },
  {
   "cell_type": "code",
   "execution_count": null,
   "id": "108f742b-923c-4f00-939c-b9a059a364d0",
   "metadata": {},
   "outputs": [],
   "source": [
    "rf = RandomForestRegressor(max_features=19, min_samples_leaf=2, n_estimators=30, max_depth=5)\n",
    "adb = AdaBoostRegressor(base_estimator=rf, n_estimators)\n",
    "\n",
    "adb.fit(X_test, y_test)\n",
    "final_pred = adb.predict(X_test, y_test)\n",
    "\n",
    "RMSE = MSE(y_test, y_pred)**(1/2)\n",
    "RMSE"
   ]
  },
  {
   "cell_type": "code",
   "execution_count": 16,
   "id": "da687568-19b6-417d-ba66-79072850721a",
   "metadata": {},
   "outputs": [
    {
     "data": {
      "text/plain": [
       "[(0.32657011864453717, 'Temperature(C)'),\n",
       " (0.31012810034879174, 'Hour'),\n",
       " (0.09890672251551086, 'Humidity(%)'),\n",
       " (0.07922295178385166, 'Solar Radiation (MJ/m2)'),\n",
       " (0.05669276133731568, 'Seasons'),\n",
       " (0.04013300055954928, 'Rainfall(mm)'),\n",
       " (0.030915851555071965, 'Dew point temperature(C)'),\n",
       " (0.018242320922328043, 'Visibility (10m)'),\n",
       " (0.01764019063247739, 'day_of_week'),\n",
       " (0.01751996087541447, 'Wind speed (m/s)'),\n",
       " (0.002761651953375338, 'Holiday'),\n",
       " (0.0012663688717764238, 'Snowfall (cm)')]"
      ]
     },
     "execution_count": 16,
     "metadata": {},
     "output_type": "execute_result"
    }
   ],
   "source": [
    "# Displaying importance scores\n",
    "feature_importances = grid_search.best_estimator_.feature_importances_\n",
    "cat_encoder = full_pipeline.named_transformers_['cat']\n",
    "cat_one_hot_attribs = list(cat_encoder.categories_[0])\n",
    "attributes = num_attribs + cat_attribs\n",
    "sorted(zip(feature_importances, attributes), reverse=True)"
   ]
  },
  {
   "cell_type": "code",
   "execution_count": 18,
   "id": "19e8536f-8cbe-4993-a1e4-ed021f342b1b",
   "metadata": {},
   "outputs": [
    {
     "data": {
      "text/plain": [
       "array([201.76376991, 240.63344174])"
      ]
     },
     "execution_count": 18,
     "metadata": {},
     "output_type": "execute_result"
    }
   ],
   "source": [
    "# 95% confidence interval\n",
    "from scipy import stats\n",
    "\n",
    "confidence = 0.95\n",
    "squared_errors = (final_predictions - y_test) ** 2\n",
    "np.sqrt(stats.t.interval(confidence, len(squared_errors) -1, loc=squared_errors.mean(), scale=stats.sem(squared_errors)))"
   ]
  },
  {
   "cell_type": "markdown",
   "id": "5a0a52d9",
   "metadata": {},
   "source": [
    "## Don't know where to start?\n",
    "\n",
    "**Challenges are brief tasks designed to help you practice specific skills:**\n",
    "\n",
    "- 🗺️ **Explore**: Compare the average number of bikes rented by the time of day (morning, afternoon, and evening) across the four different seasons.\n",
    "- 📊 **Visualize**: Create a plot to visualize the relationship between temperature and the number of bikes rented. Differentiate between seasons within the plot.\n",
    "- 🔎 **Analyze**: Which variables correlate most with the number of bikes rented, and how strong are these relationships?\n",
    "\n",
    "**Scenarios are broader questions to help you develop an end-to-end project for your portfolio:**\n",
    "\n",
    "A bike-sharing startup has just hired you as their data analyst. The business is scaling quickly, but the demand fluctuates a lot. This means that there are not enough usable bikes available on some days, and on other days there are too many bikes. If the company could predict demand in advance, it could avoid these situations.\n",
    "\n",
    "The founder of the company has asked you whether you can predict the number of bikes that will be rented based on information such as predicted weather, the time of year, and the time of day.\n",
    "\n",
    "You will need to prepare a report that is accessible to a broad audience. It will need to outline your steps, findings, and conclusions.\n",
    "\n",
    "---\n",
    "\n",
    "✍️ _If you have an idea for an interesting Scenario or Challenge, or have feedback on our existing ones, let us know! You can submit feedback by pressing the question mark in the top right corner of the screen and selecting \"Give Feedback\". Include the phrase \"Content Feedback\" to help us flag it in our system._"
   ]
  }
 ],
 "metadata": {
  "colab": {
   "name": "Welcome to DataCamp Workspaces.ipynb",
   "provenance": []
  },
  "kernelspec": {
   "display_name": "Python 3 (ipykernel)",
   "language": "python",
   "name": "python3"
  },
  "language_info": {
   "codemirror_mode": {
    "name": "ipython",
    "version": 3
   },
   "file_extension": ".py",
   "mimetype": "text/x-python",
   "name": "python",
   "nbconvert_exporter": "python",
   "pygments_lexer": "ipython3",
   "version": "3.9.13"
  },
  "varInspector": {
   "cols": {
    "lenName": 16,
    "lenType": 16,
    "lenVar": 40
   },
   "kernels_config": {
    "python": {
     "delete_cmd_postfix": "",
     "delete_cmd_prefix": "del ",
     "library": "var_list.py",
     "varRefreshCmd": "print(var_dic_list())"
    },
    "r": {
     "delete_cmd_postfix": ") ",
     "delete_cmd_prefix": "rm(",
     "library": "var_list.r",
     "varRefreshCmd": "cat(var_dic_list()) "
    }
   },
   "types_to_exclude": [
    "module",
    "function",
    "builtin_function_or_method",
    "instance",
    "_Feature"
   ],
   "window_display": false
  }
 },
 "nbformat": 4,
 "nbformat_minor": 5
}
